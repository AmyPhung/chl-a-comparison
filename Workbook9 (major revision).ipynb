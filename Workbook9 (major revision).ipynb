{
 "cells": [
  {
   "cell_type": "markdown",
   "metadata": {},
   "source": [
    "# Chlorophyll A Data Vis Workbook\n",
    "### Amy Phung, March 2020"
   ]
  },
  {
   "cell_type": "markdown",
   "metadata": {},
   "source": [
    "## Setup, Imports, & Globals"
   ]
  },
  {
   "cell_type": "markdown",
   "metadata": {
    "heading_collapsed": true
   },
   "source": [
    "### Setup"
   ]
  },
  {
   "cell_type": "code",
   "execution_count": 1,
   "metadata": {
    "hidden": true
   },
   "outputs": [],
   "source": [
    "import os\n",
    "import pandas as pd\n",
    "import numpy as np\n",
    "import matplotlib.pyplot as plt\n",
    "import seaborn as sns\n",
    "from jupyterthemes import jtplot\n",
    "jtplot.style(theme=\"monokai\", context=\"notebook\", ticks=True, grid=False)\n",
    "\n",
    "# pd.set_option('display.max_rows', 60)\n",
    "# pd.set_option('display.max_columns', 30)\n",
    "# pd.set_option('display.width', None)\n",
    "# pd.set_option('display.max_colwidth', None)"
   ]
  },
  {
   "cell_type": "markdown",
   "metadata": {},
   "source": [
    "### Imports"
   ]
  },
  {
   "cell_type": "code",
   "execution_count": 95,
   "metadata": {},
   "outputs": [],
   "source": [
    "%matplotlib inline\n",
    "import scipy\n",
    "import glob\n",
    "import matplotlib.pyplot as plt\n",
    "import pandas as pd\n",
    "import numpy as np\n",
    "import netCDF4\n",
    "import itertools\n",
    "from datetime import datetime"
   ]
  },
  {
   "cell_type": "markdown",
   "metadata": {},
   "source": [
    "### Globals"
   ]
  },
  {
   "cell_type": "code",
   "execution_count": 56,
   "metadata": {},
   "outputs": [],
   "source": [
    "STD_COLUMN_NAMES = [\"Src\", \"Lat\", \"Long\", \"Chl-A\", \"Timestamp\", \n",
    "                    \"Station\"]\n",
    "SAT_COLUMN_NAMES = [\"Filename\", \"Sat Lat\", \"Sat Long\", \"Sat Chl-A\",\n",
    "                   \"Lat Error\", \"Long Error\", \"Time Error\"]"
   ]
  },
  {
   "cell_type": "markdown",
   "metadata": {},
   "source": [
    "## Data Classes"
   ]
  },
  {
   "cell_type": "code",
   "execution_count": 90,
   "metadata": {},
   "outputs": [],
   "source": [
    "class Dataset:\n",
    "    \"\"\"\n",
    "    Class for datasets with methods to process and reformat raw data\n",
    "    \n",
    "    Attributes:\n",
    "        _source (str): String representing where data came from\n",
    "        _cols (dict): Dictionary containing lookup for raw column names\n",
    "        _raw_df (DataFrame): Pandas dataframe containing raw csv data\n",
    "        df (DataFrame): Pandas dataframe containing formatted data\n",
    "    \"\"\"\n",
    "    def __init__(self, filename, source, column_names):\n",
    "        self._filename = filename\n",
    "        self._source = source\n",
    "        self._cols = column_names\n",
    "        self._raw_df = self._loadRaw()\n",
    "        self._processRaw()\n",
    "        self.df = pd.DataFrame(index=range(0,len(self._raw_df)),\n",
    "                               columns=STD_COLUMN_NAMES)\n",
    "        self._formatData()\n",
    "        \n",
    "    def _loadRaw(self):\n",
    "        return pd.read_csv(self._filename)\n",
    "        \n",
    "    def _processRaw(self):\n",
    "        pass\n",
    "    \n",
    "    def _parseDate(self):\n",
    "        \"\"\" Convert an unformatted timestamp in raw dataset to a Python \n",
    "        datetime then to a timestamp. Returns timestamp \"\"\"\n",
    "        pass\n",
    "    \n",
    "    def _formatData(self):\n",
    "        self.df[\"Src\"] = self._source\n",
    "        self.df[\"Lat\"] = self._raw_df[self._cols[\"Lat\"]]\n",
    "        self.df[\"Long\"] = self._raw_df[self._cols[\"Long\"]]\n",
    "        self.df[\"Chl-A\"] = self._raw_df[self._cols[\"Chl-A\"]]\n",
    "        self.df[\"Timestamp\"] = self._raw_df.apply(self._parseDate, axis=1)\n",
    "        self.df[\"Station\"] = self._raw_df[self._cols[\"Station\"]]"
   ]
  },
  {
   "cell_type": "markdown",
   "metadata": {},
   "source": [
    "### BGC Class"
   ]
  },
  {
   "cell_type": "code",
   "execution_count": 109,
   "metadata": {},
   "outputs": [],
   "source": [
    "class DatasetBGC(Dataset):\n",
    "    def __init__(self, filename, source, column_names):\n",
    "        Dataset.__init__(self, filename, source, column_names)\n",
    "        \n",
    "    def _processRaw(self):\n",
    "        # Remove unused columns\n",
    "        self._raw_df.dropna(axis=1, how='all', inplace=True) \n",
    "        # Drop points missing chlorophyll values\n",
    "        self._raw_df.dropna(inplace=True) \n",
    "        # Drop duplicates (for some reason stations 1-9 like to duplicate)\n",
    "        self._raw_df.drop_duplicates(inplace=True) \n",
    "        # Add in column with station numbers\n",
    "        self._raw_df[\"Station Num\"] = range(1, len(self._raw_df)+1) \n",
    "        # Normalize chlorophyll data\n",
    "        self._raw_df[self._cols[\"Chl-A\"]] = \\\n",
    "            self._raw_df[self._cols[\"Chl-A\"]]/20. \n",
    "        self._raw_df.reset_index(inplace=True)\n",
    "        \n",
    "    def _parseDate(self, df_row):\n",
    "        time_str = df_row[\"yyyy-mm-ddThh:mm:ss.sss\"]\n",
    "        year   = int(time_str[0:4])\n",
    "        month  = int(time_str[5:7])\n",
    "        day    = int(time_str[8:10])\n",
    "        hour   = int(time_str[11:13])\n",
    "        minute = int(time_str[14:16])\n",
    "        second = int(time_str[17:19])\n",
    "        \n",
    "        date = datetime(year, month, day, hour, minute, second)\n",
    "        timestamp = datetime.timestamp(date)\n",
    "        return timestamp"
   ]
  },
  {
   "cell_type": "markdown",
   "metadata": {},
   "source": [
    "## Main Script"
   ]
  },
  {
   "cell_type": "code",
   "execution_count": 111,
   "metadata": {},
   "outputs": [
    {
     "data": {
      "text/html": [
       "<div>\n",
       "<style scoped>\n",
       "    .dataframe tbody tr th:only-of-type {\n",
       "        vertical-align: middle;\n",
       "    }\n",
       "\n",
       "    .dataframe tbody tr th {\n",
       "        vertical-align: top;\n",
       "    }\n",
       "\n",
       "    .dataframe thead th {\n",
       "        text-align: right;\n",
       "    }\n",
       "</style>\n",
       "<table border=\"1\" class=\"dataframe\">\n",
       "  <thead>\n",
       "    <tr style=\"text-align: right;\">\n",
       "      <th></th>\n",
       "      <th>Src</th>\n",
       "      <th>Lat</th>\n",
       "      <th>Long</th>\n",
       "      <th>Chl-A</th>\n",
       "      <th>Timestamp</th>\n",
       "      <th>Station</th>\n",
       "    </tr>\n",
       "  </thead>\n",
       "  <tbody>\n",
       "    <tr>\n",
       "      <th>0</th>\n",
       "      <td>BGC</td>\n",
       "      <td>-32.465</td>\n",
       "      <td>185.24200</td>\n",
       "      <td>0.598395</td>\n",
       "      <td>1.501384e+09</td>\n",
       "      <td>1</td>\n",
       "    </tr>\n",
       "    <tr>\n",
       "      <th>1</th>\n",
       "      <td>BGC</td>\n",
       "      <td>-32.267</td>\n",
       "      <td>185.30000</td>\n",
       "      <td>0.628195</td>\n",
       "      <td>1.502250e+09</td>\n",
       "      <td>2</td>\n",
       "    </tr>\n",
       "    <tr>\n",
       "      <th>2</th>\n",
       "      <td>BGC</td>\n",
       "      <td>-32.298</td>\n",
       "      <td>185.25600</td>\n",
       "      <td>0.415292</td>\n",
       "      <td>1.503110e+09</td>\n",
       "      <td>3</td>\n",
       "    </tr>\n",
       "    <tr>\n",
       "      <th>3</th>\n",
       "      <td>BGC</td>\n",
       "      <td>-32.560</td>\n",
       "      <td>185.32600</td>\n",
       "      <td>0.514820</td>\n",
       "      <td>1.503982e+09</td>\n",
       "      <td>4</td>\n",
       "    </tr>\n",
       "    <tr>\n",
       "      <th>4</th>\n",
       "      <td>BGC</td>\n",
       "      <td>-32.979</td>\n",
       "      <td>185.25101</td>\n",
       "      <td>0.363909</td>\n",
       "      <td>1.504851e+09</td>\n",
       "      <td>5</td>\n",
       "    </tr>\n",
       "    <tr>\n",
       "      <th>...</th>\n",
       "      <td>...</td>\n",
       "      <td>...</td>\n",
       "      <td>...</td>\n",
       "      <td>...</td>\n",
       "      <td>...</td>\n",
       "      <td>...</td>\n",
       "    </tr>\n",
       "    <tr>\n",
       "      <th>88</th>\n",
       "      <td>BGC</td>\n",
       "      <td>-42.033</td>\n",
       "      <td>185.93600</td>\n",
       "      <td>0.321619</td>\n",
       "      <td>1.577313e+09</td>\n",
       "      <td>89</td>\n",
       "    </tr>\n",
       "    <tr>\n",
       "      <th>89</th>\n",
       "      <td>BGC</td>\n",
       "      <td>-41.869</td>\n",
       "      <td>186.26900</td>\n",
       "      <td>0.333278</td>\n",
       "      <td>1.578173e+09</td>\n",
       "      <td>90</td>\n",
       "    </tr>\n",
       "    <tr>\n",
       "      <th>90</th>\n",
       "      <td>BGC</td>\n",
       "      <td>-41.677</td>\n",
       "      <td>186.60600</td>\n",
       "      <td>0.228063</td>\n",
       "      <td>1.579034e+09</td>\n",
       "      <td>91</td>\n",
       "    </tr>\n",
       "    <tr>\n",
       "      <th>91</th>\n",
       "      <td>BGC</td>\n",
       "      <td>-41.507</td>\n",
       "      <td>186.82600</td>\n",
       "      <td>0.214175</td>\n",
       "      <td>1.579899e+09</td>\n",
       "      <td>92</td>\n",
       "    </tr>\n",
       "    <tr>\n",
       "      <th>92</th>\n",
       "      <td>BGC</td>\n",
       "      <td>-41.392</td>\n",
       "      <td>186.75800</td>\n",
       "      <td>0.193624</td>\n",
       "      <td>1.580764e+09</td>\n",
       "      <td>93</td>\n",
       "    </tr>\n",
       "  </tbody>\n",
       "</table>\n",
       "<p>93 rows × 6 columns</p>\n",
       "</div>"
      ],
      "text/plain": [
       "    Src     Lat       Long     Chl-A     Timestamp  Station\n",
       "0   BGC -32.465  185.24200  0.598395  1.501384e+09        1\n",
       "1   BGC -32.267  185.30000  0.628195  1.502250e+09        2\n",
       "2   BGC -32.298  185.25600  0.415292  1.503110e+09        3\n",
       "3   BGC -32.560  185.32600  0.514820  1.503982e+09        4\n",
       "4   BGC -32.979  185.25101  0.363909  1.504851e+09        5\n",
       "..  ...     ...        ...       ...           ...      ...\n",
       "88  BGC -42.033  185.93600  0.321619  1.577313e+09       89\n",
       "89  BGC -41.869  186.26900  0.333278  1.578173e+09       90\n",
       "90  BGC -41.677  186.60600  0.228063  1.579034e+09       91\n",
       "91  BGC -41.507  186.82600  0.214175  1.579899e+09       92\n",
       "92  BGC -41.392  186.75800  0.193624  1.580764e+09       93\n",
       "\n",
       "[93 rows x 6 columns]"
      ]
     },
     "execution_count": 111,
     "metadata": {},
     "output_type": "execute_result"
    }
   ],
   "source": [
    "bgc_cols = {\"Lat\": \"Latitude [degrees_north]\",\n",
    "            \"Long\": \"Longitude [degrees_east]\",\n",
    "            \"Chl-A\": \"Integral_0 { Chlorophyll-A (original) } * d_Pressure (original) [mg m~^-~^3 * decibar] @ Pressure (original) [decibar]=20.0\",\n",
    "            \"Timestamp\": \"Dummy Var\", \n",
    "            \"Station\": \"Station Num\"}\n",
    "bgc_data = DatasetBGC(\"data/argo-isosurface-data.csv\", \"BGC\", bgc_cols)\n",
    "bgc_data.df"
   ]
  },
  {
   "cell_type": "code",
   "execution_count": null,
   "metadata": {},
   "outputs": [],
   "source": []
  },
  {
   "cell_type": "code",
   "execution_count": null,
   "metadata": {},
   "outputs": [],
   "source": []
  }
 ],
 "metadata": {
  "kernelspec": {
   "display_name": "Python 3",
   "language": "python",
   "name": "python3"
  },
  "language_info": {
   "codemirror_mode": {
    "name": "ipython",
    "version": 3
   },
   "file_extension": ".py",
   "mimetype": "text/x-python",
   "name": "python",
   "nbconvert_exporter": "python",
   "pygments_lexer": "ipython3",
   "version": "3.6.10"
  }
 },
 "nbformat": 4,
 "nbformat_minor": 4
}
